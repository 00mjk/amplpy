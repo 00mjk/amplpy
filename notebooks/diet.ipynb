{
 "cells": [
  {
   "cell_type": "markdown",
   "metadata": {},
   "source": [
    "# Example: Diet Model"
   ]
  },
  {
   "cell_type": "markdown",
   "metadata": {},
   "source": [
    "### Step 1: Import amplpy"
   ]
  },
  {
   "cell_type": "code",
   "execution_count": 1,
   "metadata": {
    "collapsed": true
   },
   "outputs": [],
   "source": [
    "from __future__ import print_function\n",
    "from amplpy import AMPL, DataFrame\n",
    "import pandas as pd\n",
    "import amplpy"
   ]
  },
  {
   "cell_type": "markdown",
   "metadata": {},
   "source": [
    "### Step 2: Create an AMPL object"
   ]
  },
  {
   "cell_type": "code",
   "execution_count": 2,
   "metadata": {
    "collapsed": true
   },
   "outputs": [],
   "source": [
    "ampl = AMPL()"
   ]
  },
  {
   "cell_type": "markdown",
   "metadata": {},
   "source": [
    "### Step 3: Define the model"
   ]
  },
  {
   "cell_type": "code",
   "execution_count": 3,
   "metadata": {
    "collapsed": true
   },
   "outputs": [],
   "source": [
    "ampl.eval('''\n",
    "set FOOD ;\n",
    "set NUTR ;\n",
    "# Parameters\n",
    "param cost { FOOD } > 0;\n",
    "param f_min { FOOD } >= 0;\n",
    "param f_max {j in FOOD } >= f_min [j];\n",
    "param n_min { NUTR } >= 0;\n",
    "param n_max {i in NUTR } >= n_min [i];\n",
    "param amt {NUTR , FOOD } >= 0;\n",
    "# Variables\n",
    "var Buy {j in FOOD } >= f_min [j], <= f_max [j];\n",
    "# Objective\n",
    "minimize total_cost : sum {j in FOOD } cost [j] * Buy[j];\n",
    "# Contraints\n",
    "subject to diet {i in NUTR }:\n",
    "    n_min [i] <= sum {j in FOOD } amt[i,j] * Buy[j] <= n_max [i];\n",
    "''')"
   ]
  },
  {
   "cell_type": "markdown",
   "metadata": {},
   "source": [
    "### Step 4: Define the initial data"
   ]
  },
  {
   "cell_type": "code",
   "execution_count": 4,
   "metadata": {
    "collapsed": true
   },
   "outputs": [],
   "source": [
    "foods = ['BEEF', 'CHK', 'FISH', 'HAM', 'MCH', 'MTL', 'SPG', 'TUR']\n",
    "nutrients = ['A', 'C', 'B1', 'B2', 'NA', 'CAL']\n",
    "\n",
    "ampl.getSet('FOOD').setValues(foods)\n",
    "ampl.getSet('NUTR').setValues(nutrients)"
   ]
  },
  {
   "cell_type": "code",
   "execution_count": 5,
   "metadata": {
    "collapsed": true
   },
   "outputs": [],
   "source": [
    "ampl.setData(DataFrame(\n",
    "    index=[('FOOD', foods)], \n",
    "    columns=[\n",
    "        ('cost', [3.59, 2.59, 2.29, 2.89, 1.89, 1.99, 1.99, 2.49]), \n",
    "        ('f_min', [2, 2, 2, 2, 2, 2, 2, 2]), \n",
    "        ('f_max', [10, 10, 10, 10, 10, 10, 10, 10])\n",
    "    ]\n",
    "))"
   ]
  },
  {
   "cell_type": "code",
   "execution_count": 6,
   "metadata": {
    "scrolled": true
   },
   "outputs": [
    {
     "name": "stdout",
     "output_type": "stream",
     "text": [
      "pandas:\n",
      "      n_max  n_min\n",
      "A    20000    700\n",
      "C    20000    700\n",
      "B1   20000    700\n",
      "B2   20000    700\n",
      "NA   50000      0\n",
      "CAL  24000  16000\n",
      "dict: {'A': [20000.0, 700.0], 'C': [20000.0, 700.0], 'NA': [50000.0, 0.0], 'B1': [20000.0, 700.0], 'B2': [20000.0, 700.0], 'CAL': [24000.0, 16000.0]}\n",
      "list: [('A', 20000.0, 700.0), ('C', 20000.0, 700.0), ('B1', 20000.0, 700.0), ('B2', 20000.0, 700.0), ('NA', 50000.0, 0.0), ('CAL', 24000.0, 16000.0)]\n",
      "pandas:\n",
      "        n_max    n_min\n",
      "A    20000.0    700.0\n",
      "C    20000.0    700.0\n",
      "B1   20000.0    700.0\n",
      "B2   20000.0    700.0\n",
      "NA   50000.0      0.0\n",
      "CAL  24000.0  16000.0\n"
     ]
    }
   ],
   "source": [
    "df = pd.DataFrame({\n",
    "    'n_min': [700, 700, 700, 700, 0, 16000], \n",
    "    'n_max': [20000, 20000, 20000, 20000, 50000, 24000]\n",
    "}, \n",
    "    index=nutrients\n",
    ")\n",
    "ampl.setData(DataFrame.fromPandas(df))\n",
    "print('pandas:\\n', df)\n",
    "print('dict:', DataFrame.fromPandas(df).toDict())\n",
    "print('list:', DataFrame.fromPandas(df).toList())\n",
    "print('pandas:\\n', DataFrame.fromPandas(df).toPandas())"
   ]
  },
  {
   "cell_type": "code",
   "execution_count": 7,
   "metadata": {
    "collapsed": true
   },
   "outputs": [],
   "source": [
    "amounts = [\n",
    "    [ 60,    8,   8,  40,   15,  70,   25,   60],\n",
    "    [ 20,    0,  10,  40,   35,  30,   50,   20],\n",
    "    [ 10,   20,  15,  35,   15,  15,   25,   15],\n",
    "    [ 15,   20,  10,  10,   15,  15,   15,   10],\n",
    "    [928, 2180, 945, 278, 1182, 896, 1329, 1397],\n",
    "    [295,  770, 440, 430,  315, 400,  379,  450]\n",
    "]\n",
    "df = DataFrame(('NUTR', 'FOOD'), 'amt')\n",
    "df.setValues({\n",
    "    (nutrient, food): amounts[i][j]\n",
    "    for i, nutrient in enumerate(nutrients)\n",
    "    for j, food in enumerate(foods)\n",
    "})\n",
    "ampl.setData(df)"
   ]
  },
  {
   "cell_type": "markdown",
   "metadata": {},
   "source": [
    "### Step 5: Solve the model"
   ]
  },
  {
   "cell_type": "code",
   "execution_count": 8,
   "metadata": {},
   "outputs": [
    {
     "name": "stdout",
     "output_type": "stream",
     "text": [
      "MINOS 5.51: optimal solution found.\n",
      "13 iterations, objective 119.9897589\n"
     ]
    }
   ],
   "source": [
    "ampl.solve()"
   ]
  },
  {
   "cell_type": "markdown",
   "metadata": {},
   "source": [
    "### Step 6: Access the values of the variable 'Buy'"
   ]
  },
  {
   "cell_type": "code",
   "execution_count": 9,
   "metadata": {},
   "outputs": [
    {
     "name": "stdout",
     "output_type": "stream",
     "text": [
      "Buy['BEEF'] = 5.22693266833\n",
      "Buy['CHK'] = 2.0\n",
      "Buy['FISH'] = 2.0\n",
      "Buy['HAM'] = 10.0\n",
      "Buy['MCH'] = 10.0\n",
      "Buy['MTL'] = 10.0\n",
      "Buy['SPG'] = 9.43973399834\n",
      "Buy['TUR'] = 2.0\n"
     ]
    }
   ],
   "source": [
    "for row in ampl.getVariable('Buy').getValues():\n",
    "    print(\"Buy['{}'] = {}\".format(row[0], row[1]))"
   ]
  },
  {
   "cell_type": "markdown",
   "metadata": {},
   "source": [
    "### Step 7: Display the objective value"
   ]
  },
  {
   "cell_type": "code",
   "execution_count": 10,
   "metadata": {
    "scrolled": true
   },
   "outputs": [
    {
     "name": "stdout",
     "output_type": "stream",
     "text": [
      "Objective is: 119.989758936\n"
     ]
    }
   ],
   "source": [
    "totalcost = ampl.getObjective('total_cost')\n",
    "print(\"Objective is:\", totalcost.value())"
   ]
  },
  {
   "cell_type": "markdown",
   "metadata": {},
   "source": [
    "### Step 8: Increase the costs of beef and ham"
   ]
  },
  {
   "cell_type": "code",
   "execution_count": 11,
   "metadata": {},
   "outputs": [
    {
     "name": "stdout",
     "output_type": "stream",
     "text": [
      "Increased costs of beef and ham.\n"
     ]
    }
   ],
   "source": [
    "cost = ampl.getParameter('cost')\n",
    "cost.setValues({'BEEF': 5.01, 'HAM': 4.55})\n",
    "print(\"Increased costs of beef and ham.\")"
   ]
  },
  {
   "cell_type": "markdown",
   "metadata": {},
   "source": [
    "### Step 9: Solve the model with the new costs"
   ]
  },
  {
   "cell_type": "code",
   "execution_count": 12,
   "metadata": {},
   "outputs": [
    {
     "name": "stdout",
     "output_type": "stream",
     "text": [
      "MINOS 5.51: optimal solution found.\n",
      "0 iterations, objective 144.0120033\n"
     ]
    }
   ],
   "source": [
    "ampl.solve()"
   ]
  },
  {
   "cell_type": "markdown",
   "metadata": {},
   "source": [
    "### Step 10: Display the new objective value"
   ]
  },
  {
   "cell_type": "code",
   "execution_count": 13,
   "metadata": {},
   "outputs": [
    {
     "name": "stdout",
     "output_type": "stream",
     "text": [
      "New objective value: 144.012003325\n"
     ]
    }
   ],
   "source": [
    "print(\"New objective value:\", totalcost.value())"
   ]
  },
  {
   "cell_type": "markdown",
   "metadata": {},
   "source": [
    "### Step 11: Display the values of the variable 'Buy' using Bokeh"
   ]
  },
  {
   "cell_type": "code",
   "execution_count": 14,
   "metadata": {},
   "outputs": [
    {
     "data": {
      "text/html": [
       "\n",
       "    <div class=\"bk-root\">\n",
       "        <a href=\"http://bokeh.pydata.org\" target=\"_blank\" class=\"bk-logo bk-logo-small bk-logo-notebook\"></a>\n",
       "        <span id=\"bdce5662-8979-48a4-a169-4ad3dd9fac6f\">Loading BokehJS ...</span>\n",
       "    </div>"
      ]
     },
     "metadata": {},
     "output_type": "display_data"
    },
    {
     "data": {
      "application/javascript": [
       "\n",
       "(function(global) {\n",
       "  function now() {\n",
       "    return new Date();\n",
       "  }\n",
       "\n",
       "  var force = true;\n",
       "\n",
       "  if (typeof (window._bokeh_onload_callbacks) === \"undefined\" || force === true) {\n",
       "    window._bokeh_onload_callbacks = [];\n",
       "    window._bokeh_is_loading = undefined;\n",
       "  }\n",
       "\n",
       "\n",
       "  \n",
       "  if (typeof (window._bokeh_timeout) === \"undefined\" || force === true) {\n",
       "    window._bokeh_timeout = Date.now() + 5000;\n",
       "    window._bokeh_failed_load = false;\n",
       "  }\n",
       "\n",
       "  var NB_LOAD_WARNING = {'data': {'text/html':\n",
       "     \"<div style='background-color: #fdd'>\\n\"+\n",
       "     \"<p>\\n\"+\n",
       "     \"BokehJS does not appear to have successfully loaded. If loading BokehJS from CDN, this \\n\"+\n",
       "     \"may be due to a slow or bad network connection. Possible fixes:\\n\"+\n",
       "     \"</p>\\n\"+\n",
       "     \"<ul>\\n\"+\n",
       "     \"<li>re-rerun `output_notebook()` to attempt to load from CDN again, or</li>\\n\"+\n",
       "     \"<li>use INLINE resources instead, as so:</li>\\n\"+\n",
       "     \"</ul>\\n\"+\n",
       "     \"<code>\\n\"+\n",
       "     \"from bokeh.resources import INLINE\\n\"+\n",
       "     \"output_notebook(resources=INLINE)\\n\"+\n",
       "     \"</code>\\n\"+\n",
       "     \"</div>\"}};\n",
       "\n",
       "  function display_loaded() {\n",
       "    if (window.Bokeh !== undefined) {\n",
       "      var el = document.getElementById(\"bdce5662-8979-48a4-a169-4ad3dd9fac6f\");\n",
       "      el.textContent = \"BokehJS \" + Bokeh.version + \" successfully loaded.\";\n",
       "    } else if (Date.now() < window._bokeh_timeout) {\n",
       "      setTimeout(display_loaded, 100)\n",
       "    }\n",
       "  }\n",
       "\n",
       "  function run_callbacks() {\n",
       "    try {\n",
       "      window._bokeh_onload_callbacks.forEach(function(callback) { callback() });\n",
       "    }\n",
       "    finally {\n",
       "      delete window._bokeh_onload_callbacks\n",
       "    }\n",
       "    console.info(\"Bokeh: all callbacks have finished\");\n",
       "  }\n",
       "\n",
       "  function load_libs(js_urls, callback) {\n",
       "    window._bokeh_onload_callbacks.push(callback);\n",
       "    if (window._bokeh_is_loading > 0) {\n",
       "      console.log(\"Bokeh: BokehJS is being loaded, scheduling callback at\", now());\n",
       "      return null;\n",
       "    }\n",
       "    if (js_urls == null || js_urls.length === 0) {\n",
       "      run_callbacks();\n",
       "      return null;\n",
       "    }\n",
       "    console.log(\"Bokeh: BokehJS not loaded, scheduling load and callback at\", now());\n",
       "    window._bokeh_is_loading = js_urls.length;\n",
       "    for (var i = 0; i < js_urls.length; i++) {\n",
       "      var url = js_urls[i];\n",
       "      var s = document.createElement('script');\n",
       "      s.src = url;\n",
       "      s.async = false;\n",
       "      s.onreadystatechange = s.onload = function() {\n",
       "        window._bokeh_is_loading--;\n",
       "        if (window._bokeh_is_loading === 0) {\n",
       "          console.log(\"Bokeh: all BokehJS libraries loaded\");\n",
       "          run_callbacks()\n",
       "        }\n",
       "      };\n",
       "      s.onerror = function() {\n",
       "        console.warn(\"failed to load library \" + url);\n",
       "      };\n",
       "      console.log(\"Bokeh: injecting script tag for BokehJS library: \", url);\n",
       "      document.getElementsByTagName(\"head\")[0].appendChild(s);\n",
       "    }\n",
       "  };var element = document.getElementById(\"bdce5662-8979-48a4-a169-4ad3dd9fac6f\");\n",
       "  if (element == null) {\n",
       "    console.log(\"Bokeh: ERROR: autoload.js configured with elementid 'bdce5662-8979-48a4-a169-4ad3dd9fac6f' but no matching script tag was found. \")\n",
       "    return false;\n",
       "  }\n",
       "\n",
       "  var js_urls = [\"https://cdn.pydata.org/bokeh/release/bokeh-0.12.6.min.js\", \"https://cdn.pydata.org/bokeh/release/bokeh-widgets-0.12.6.min.js\"];\n",
       "\n",
       "  var inline_js = [\n",
       "    function(Bokeh) {\n",
       "      Bokeh.set_log_level(\"info\");\n",
       "    },\n",
       "    \n",
       "    function(Bokeh) {\n",
       "      \n",
       "    },\n",
       "    \n",
       "    function(Bokeh) {\n",
       "      \n",
       "      document.getElementById(\"bdce5662-8979-48a4-a169-4ad3dd9fac6f\").textContent = \"BokehJS is loading...\";\n",
       "    },\n",
       "    function(Bokeh) {\n",
       "      console.log(\"Bokeh: injecting CSS: https://cdn.pydata.org/bokeh/release/bokeh-0.12.6.min.css\");\n",
       "      Bokeh.embed.inject_css(\"https://cdn.pydata.org/bokeh/release/bokeh-0.12.6.min.css\");\n",
       "      console.log(\"Bokeh: injecting CSS: https://cdn.pydata.org/bokeh/release/bokeh-widgets-0.12.6.min.css\");\n",
       "      Bokeh.embed.inject_css(\"https://cdn.pydata.org/bokeh/release/bokeh-widgets-0.12.6.min.css\");\n",
       "    }\n",
       "  ];\n",
       "\n",
       "  function run_inline_js() {\n",
       "    \n",
       "    if ((window.Bokeh !== undefined) || (force === true)) {\n",
       "      for (var i = 0; i < inline_js.length; i++) {\n",
       "        inline_js[i](window.Bokeh);\n",
       "      }if (force === true) {\n",
       "        display_loaded();\n",
       "      }} else if (Date.now() < window._bokeh_timeout) {\n",
       "      setTimeout(run_inline_js, 100);\n",
       "    } else if (!window._bokeh_failed_load) {\n",
       "      console.log(\"Bokeh: BokehJS failed to load within specified timeout.\");\n",
       "      window._bokeh_failed_load = true;\n",
       "    } else if (force !== true) {\n",
       "      var cell = $(document.getElementById(\"bdce5662-8979-48a4-a169-4ad3dd9fac6f\")).parents('.cell').data().cell;\n",
       "      cell.output_area.append_execute_result(NB_LOAD_WARNING)\n",
       "    }\n",
       "\n",
       "  }\n",
       "\n",
       "  if (window._bokeh_is_loading === 0) {\n",
       "    console.log(\"Bokeh: BokehJS loaded, going straight to plotting\");\n",
       "    run_inline_js();\n",
       "  } else {\n",
       "    load_libs(js_urls, function() {\n",
       "      console.log(\"Bokeh: BokehJS plotting callback run at\", now());\n",
       "      run_inline_js();\n",
       "    });\n",
       "  }\n",
       "}(this));"
      ]
     },
     "metadata": {},
     "output_type": "display_data"
    },
    {
     "data": {
      "text/html": [
       "\n",
       "\n",
       "    <div class=\"bk-root\">\n",
       "        <div class=\"bk-plotdiv\" id=\"1c9de966-7410-49af-9522-92240f9b8669\"></div>\n",
       "    </div>\n",
       "<script type=\"text/javascript\">\n",
       "  \n",
       "  (function(global) {\n",
       "    function now() {\n",
       "      return new Date();\n",
       "    }\n",
       "  \n",
       "    var force = false;\n",
       "  \n",
       "    if (typeof (window._bokeh_onload_callbacks) === \"undefined\" || force === true) {\n",
       "      window._bokeh_onload_callbacks = [];\n",
       "      window._bokeh_is_loading = undefined;\n",
       "    }\n",
       "  \n",
       "  \n",
       "    \n",
       "    if (typeof (window._bokeh_timeout) === \"undefined\" || force === true) {\n",
       "      window._bokeh_timeout = Date.now() + 0;\n",
       "      window._bokeh_failed_load = false;\n",
       "    }\n",
       "  \n",
       "    var NB_LOAD_WARNING = {'data': {'text/html':\n",
       "       \"<div style='background-color: #fdd'>\\n\"+\n",
       "       \"<p>\\n\"+\n",
       "       \"BokehJS does not appear to have successfully loaded. If loading BokehJS from CDN, this \\n\"+\n",
       "       \"may be due to a slow or bad network connection. Possible fixes:\\n\"+\n",
       "       \"</p>\\n\"+\n",
       "       \"<ul>\\n\"+\n",
       "       \"<li>re-rerun `output_notebook()` to attempt to load from CDN again, or</li>\\n\"+\n",
       "       \"<li>use INLINE resources instead, as so:</li>\\n\"+\n",
       "       \"</ul>\\n\"+\n",
       "       \"<code>\\n\"+\n",
       "       \"from bokeh.resources import INLINE\\n\"+\n",
       "       \"output_notebook(resources=INLINE)\\n\"+\n",
       "       \"</code>\\n\"+\n",
       "       \"</div>\"}};\n",
       "  \n",
       "    function display_loaded() {\n",
       "      if (window.Bokeh !== undefined) {\n",
       "        var el = document.getElementById(\"1c9de966-7410-49af-9522-92240f9b8669\");\n",
       "        el.textContent = \"BokehJS \" + Bokeh.version + \" successfully loaded.\";\n",
       "      } else if (Date.now() < window._bokeh_timeout) {\n",
       "        setTimeout(display_loaded, 100)\n",
       "      }\n",
       "    }\n",
       "  \n",
       "    function run_callbacks() {\n",
       "      try {\n",
       "        window._bokeh_onload_callbacks.forEach(function(callback) { callback() });\n",
       "      }\n",
       "      finally {\n",
       "        delete window._bokeh_onload_callbacks\n",
       "      }\n",
       "      console.info(\"Bokeh: all callbacks have finished\");\n",
       "    }\n",
       "  \n",
       "    function load_libs(js_urls, callback) {\n",
       "      window._bokeh_onload_callbacks.push(callback);\n",
       "      if (window._bokeh_is_loading > 0) {\n",
       "        console.log(\"Bokeh: BokehJS is being loaded, scheduling callback at\", now());\n",
       "        return null;\n",
       "      }\n",
       "      if (js_urls == null || js_urls.length === 0) {\n",
       "        run_callbacks();\n",
       "        return null;\n",
       "      }\n",
       "      console.log(\"Bokeh: BokehJS not loaded, scheduling load and callback at\", now());\n",
       "      window._bokeh_is_loading = js_urls.length;\n",
       "      for (var i = 0; i < js_urls.length; i++) {\n",
       "        var url = js_urls[i];\n",
       "        var s = document.createElement('script');\n",
       "        s.src = url;\n",
       "        s.async = false;\n",
       "        s.onreadystatechange = s.onload = function() {\n",
       "          window._bokeh_is_loading--;\n",
       "          if (window._bokeh_is_loading === 0) {\n",
       "            console.log(\"Bokeh: all BokehJS libraries loaded\");\n",
       "            run_callbacks()\n",
       "          }\n",
       "        };\n",
       "        s.onerror = function() {\n",
       "          console.warn(\"failed to load library \" + url);\n",
       "        };\n",
       "        console.log(\"Bokeh: injecting script tag for BokehJS library: \", url);\n",
       "        document.getElementsByTagName(\"head\")[0].appendChild(s);\n",
       "      }\n",
       "    };var element = document.getElementById(\"1c9de966-7410-49af-9522-92240f9b8669\");\n",
       "    if (element == null) {\n",
       "      console.log(\"Bokeh: ERROR: autoload.js configured with elementid '1c9de966-7410-49af-9522-92240f9b8669' but no matching script tag was found. \")\n",
       "      return false;\n",
       "    }\n",
       "  \n",
       "    var js_urls = [];\n",
       "  \n",
       "    var inline_js = [\n",
       "      function(Bokeh) {\n",
       "        (function() {\n",
       "          var fn = function() {\n",
       "            var docs_json = {\"9d0b1c62-2bac-484f-ba2e-45578bea9b3c\":{\"roots\":{\"references\":[{\"attributes\":{\"fill_alpha\":{\"value\":0.1},\"fill_color\":{\"value\":\"#1f77b4\"},\"line_alpha\":{\"value\":0.1},\"line_color\":{\"value\":\"#1f77b4\"},\"line_width\":{\"value\":3},\"size\":{\"units\":\"screen\",\"value\":15},\"x\":{\"field\":\"x\"},\"y\":{\"field\":\"y\"}},\"id\":\"bfafa100-5095-4470-8569-d42394c8a622\",\"type\":\"Circle\"},{\"attributes\":{\"callback\":null,\"factors\":[\"BEEF\",\"CHK\",\"FISH\",\"HAM\",\"MCH\",\"MTL\",\"SPG\",\"TUR\"]},\"id\":\"9c040208-d416-43dd-bd08-e69af9cf9abe\",\"type\":\"FactorRange\"},{\"attributes\":{},\"id\":\"4778266e-b59a-4a57-9703-0cef7e9a87fa\",\"type\":\"LinearScale\"},{\"attributes\":{},\"id\":\"69309cc5-8adb-4f02-bcad-0834882437b3\",\"type\":\"BasicTickFormatter\"},{\"attributes\":{\"line_alpha\":{\"value\":0.1},\"line_color\":{\"value\":\"#1f77b4\"},\"line_width\":{\"value\":2},\"x0\":{\"value\":0},\"x1\":{\"field\":\"x1\"},\"y0\":{\"field\":\"y0\"},\"y1\":{\"field\":\"y1\"}},\"id\":\"0bf73d71-8c1f-4e93-bc03-fced64047e4b\",\"type\":\"Segment\"},{\"attributes\":{\"formatter\":{\"id\":\"69309cc5-8adb-4f02-bcad-0834882437b3\",\"type\":\"BasicTickFormatter\"},\"plot\":{\"id\":\"0612f76f-93a8-483f-8161-0ad281685989\",\"subtype\":\"Figure\",\"type\":\"Plot\"},\"ticker\":{\"id\":\"4d27ca4c-ad16-43aa-a82f-59c6b2702c1f\",\"type\":\"BasicTicker\"}},\"id\":\"8f0264d6-ed31-49b3-95e3-8c633f386c2a\",\"type\":\"LinearAxis\"},{\"attributes\":{\"active_drag\":\"auto\",\"active_inspect\":\"auto\",\"active_scroll\":\"auto\",\"active_tap\":\"auto\"},\"id\":\"b871bef5-bab6-4e07-93f2-00b1a20ba319\",\"type\":\"Toolbar\"},{\"attributes\":{\"data_source\":{\"id\":\"f8f6d4cb-3ef0-4c66-af6d-d8f8f72aae40\",\"type\":\"ColumnDataSource\"},\"glyph\":{\"id\":\"7f8135c0-d0b5-4490-8941-8f3a38e9a0c6\",\"type\":\"Segment\"},\"hover_glyph\":null,\"muted_glyph\":null,\"nonselection_glyph\":{\"id\":\"0bf73d71-8c1f-4e93-bc03-fced64047e4b\",\"type\":\"Segment\"},\"selection_glyph\":null},\"id\":\"5ffa493a-909d-41ca-9566-b94281b067ce\",\"type\":\"GlyphRenderer\"},{\"attributes\":{\"fill_color\":{\"value\":\"orange\"},\"line_color\":{\"value\":\"green\"},\"line_width\":{\"value\":3},\"size\":{\"units\":\"screen\",\"value\":15},\"x\":{\"field\":\"x\"},\"y\":{\"field\":\"y\"}},\"id\":\"45167ce6-c6f7-49cd-8723-032f8560ad3b\",\"type\":\"Circle\"},{\"attributes\":{\"line_color\":{\"value\":\"green\"},\"line_width\":{\"value\":2},\"x0\":{\"value\":0},\"x1\":{\"field\":\"x1\"},\"y0\":{\"field\":\"y0\"},\"y1\":{\"field\":\"y1\"}},\"id\":\"7f8135c0-d0b5-4490-8941-8f3a38e9a0c6\",\"type\":\"Segment\"},{\"attributes\":{},\"id\":\"fcce150c-e188-4bb5-ab57-1cbc59278c69\",\"type\":\"ToolEvents\"},{\"attributes\":{\"callback\":null,\"column_names\":[\"y\",\"x\"],\"data\":{\"x\":[5.226932668329135,2.0,2.0,10.0,10.0,10.0,9.43973399833752,2.0],\"y\":[\"BEEF\",\"CHK\",\"FISH\",\"HAM\",\"MCH\",\"MTL\",\"SPG\",\"TUR\"]}},\"id\":\"6a781f90-97df-488c-b899-950d123fb559\",\"type\":\"ColumnDataSource\"},{\"attributes\":{},\"id\":\"8a0b8718-87a0-4078-bf10-875956fea321\",\"type\":\"CategoricalTickFormatter\"},{\"attributes\":{\"plot\":{\"id\":\"0612f76f-93a8-483f-8161-0ad281685989\",\"subtype\":\"Figure\",\"type\":\"Plot\"},\"ticker\":{\"id\":\"4d27ca4c-ad16-43aa-a82f-59c6b2702c1f\",\"type\":\"BasicTicker\"}},\"id\":\"0efcec19-85b3-45ec-8a74-2754420b3e63\",\"type\":\"Grid\"},{\"attributes\":{\"formatter\":{\"id\":\"8a0b8718-87a0-4078-bf10-875956fea321\",\"type\":\"CategoricalTickFormatter\"},\"plot\":{\"id\":\"0612f76f-93a8-483f-8161-0ad281685989\",\"subtype\":\"Figure\",\"type\":\"Plot\"},\"ticker\":{\"id\":\"ad3fd01c-c8e6-401f-a9cd-427cc43bbaf2\",\"type\":\"CategoricalTicker\"}},\"id\":\"a82d8764-6d8c-4d9c-908c-3b1988395650\",\"type\":\"CategoricalAxis\"},{\"attributes\":{},\"id\":\"ad3fd01c-c8e6-401f-a9cd-427cc43bbaf2\",\"type\":\"CategoricalTicker\"},{\"attributes\":{\"callback\":null,\"end\":12},\"id\":\"bde64757-6338-48ca-82bb-86840992ba51\",\"type\":\"Range1d\"},{\"attributes\":{\"data_source\":{\"id\":\"6a781f90-97df-488c-b899-950d123fb559\",\"type\":\"ColumnDataSource\"},\"glyph\":{\"id\":\"45167ce6-c6f7-49cd-8723-032f8560ad3b\",\"type\":\"Circle\"},\"hover_glyph\":null,\"muted_glyph\":null,\"nonselection_glyph\":{\"id\":\"bfafa100-5095-4470-8569-d42394c8a622\",\"type\":\"Circle\"},\"selection_glyph\":null},\"id\":\"a836d4c2-9bf3-4478-a21b-dba5c57b1ec8\",\"type\":\"GlyphRenderer\"},{\"attributes\":{},\"id\":\"c727ba55-5c49-4cc0-a21f-3bde16450249\",\"type\":\"CategoricalScale\"},{\"attributes\":{\"callback\":null,\"column_names\":[\"y1\",\"y0\",\"x1\"],\"data\":{\"x1\":[5.226932668329135,2.0,2.0,10.0,10.0,10.0,9.43973399833752,2.0],\"y0\":[\"BEEF\",\"CHK\",\"FISH\",\"HAM\",\"MCH\",\"MTL\",\"SPG\",\"TUR\"],\"y1\":[\"BEEF\",\"CHK\",\"FISH\",\"HAM\",\"MCH\",\"MTL\",\"SPG\",\"TUR\"]}},\"id\":\"f8f6d4cb-3ef0-4c66-af6d-d8f8f72aae40\",\"type\":\"ColumnDataSource\"},{\"attributes\":{},\"id\":\"4d27ca4c-ad16-43aa-a82f-59c6b2702c1f\",\"type\":\"BasicTicker\"},{\"attributes\":{\"plot\":null,\"text\":\"Categorical Dot Plot\"},\"id\":\"aa29b729-5650-455e-a3b7-e1a025a3b64e\",\"type\":\"Title\"},{\"attributes\":{\"dimension\":1,\"plot\":{\"id\":\"0612f76f-93a8-483f-8161-0ad281685989\",\"subtype\":\"Figure\",\"type\":\"Plot\"},\"ticker\":{\"id\":\"ad3fd01c-c8e6-401f-a9cd-427cc43bbaf2\",\"type\":\"CategoricalTicker\"}},\"id\":\"894e066f-86dd-4beb-be7a-4693569321f3\",\"type\":\"Grid\"},{\"attributes\":{\"below\":[{\"id\":\"8f0264d6-ed31-49b3-95e3-8c633f386c2a\",\"type\":\"LinearAxis\"}],\"left\":[{\"id\":\"a82d8764-6d8c-4d9c-908c-3b1988395650\",\"type\":\"CategoricalAxis\"}],\"renderers\":[{\"id\":\"8f0264d6-ed31-49b3-95e3-8c633f386c2a\",\"type\":\"LinearAxis\"},{\"id\":\"0efcec19-85b3-45ec-8a74-2754420b3e63\",\"type\":\"Grid\"},{\"id\":\"a82d8764-6d8c-4d9c-908c-3b1988395650\",\"type\":\"CategoricalAxis\"},{\"id\":\"894e066f-86dd-4beb-be7a-4693569321f3\",\"type\":\"Grid\"},{\"id\":\"5ffa493a-909d-41ca-9566-b94281b067ce\",\"type\":\"GlyphRenderer\"},{\"id\":\"a836d4c2-9bf3-4478-a21b-dba5c57b1ec8\",\"type\":\"GlyphRenderer\"}],\"title\":{\"id\":\"aa29b729-5650-455e-a3b7-e1a025a3b64e\",\"type\":\"Title\"},\"tool_events\":{\"id\":\"fcce150c-e188-4bb5-ab57-1cbc59278c69\",\"type\":\"ToolEvents\"},\"toolbar\":{\"id\":\"b871bef5-bab6-4e07-93f2-00b1a20ba319\",\"type\":\"Toolbar\"},\"toolbar_location\":null,\"x_range\":{\"id\":\"bde64757-6338-48ca-82bb-86840992ba51\",\"type\":\"Range1d\"},\"x_scale\":{\"id\":\"4778266e-b59a-4a57-9703-0cef7e9a87fa\",\"type\":\"LinearScale\"},\"y_range\":{\"id\":\"9c040208-d416-43dd-bd08-e69af9cf9abe\",\"type\":\"FactorRange\"},\"y_scale\":{\"id\":\"c727ba55-5c49-4cc0-a21f-3bde16450249\",\"type\":\"CategoricalScale\"}},\"id\":\"0612f76f-93a8-483f-8161-0ad281685989\",\"subtype\":\"Figure\",\"type\":\"Plot\"}],\"root_ids\":[\"0612f76f-93a8-483f-8161-0ad281685989\"]},\"title\":\"Bokeh Application\",\"version\":\"0.12.6\"}};\n",
       "            var render_items = [{\"docid\":\"9d0b1c62-2bac-484f-ba2e-45578bea9b3c\",\"elementid\":\"1c9de966-7410-49af-9522-92240f9b8669\",\"modelid\":\"0612f76f-93a8-483f-8161-0ad281685989\"}];\n",
       "            \n",
       "            Bokeh.embed.embed_items(docs_json, render_items);\n",
       "          };\n",
       "          if (document.readyState != \"loading\") fn();\n",
       "          else document.addEventListener(\"DOMContentLoaded\", fn);\n",
       "        })();\n",
       "      },\n",
       "      function(Bokeh) {\n",
       "      }\n",
       "    ];\n",
       "  \n",
       "    function run_inline_js() {\n",
       "      \n",
       "      if ((window.Bokeh !== undefined) || (force === true)) {\n",
       "        for (var i = 0; i < inline_js.length; i++) {\n",
       "          inline_js[i](window.Bokeh);\n",
       "        }if (force === true) {\n",
       "          display_loaded();\n",
       "        }} else if (Date.now() < window._bokeh_timeout) {\n",
       "        setTimeout(run_inline_js, 100);\n",
       "      } else if (!window._bokeh_failed_load) {\n",
       "        console.log(\"Bokeh: BokehJS failed to load within specified timeout.\");\n",
       "        window._bokeh_failed_load = true;\n",
       "      } else if (force !== true) {\n",
       "        var cell = $(document.getElementById(\"1c9de966-7410-49af-9522-92240f9b8669\")).parents('.cell').data().cell;\n",
       "        cell.output_area.append_execute_result(NB_LOAD_WARNING)\n",
       "      }\n",
       "  \n",
       "    }\n",
       "  \n",
       "    if (window._bokeh_is_loading === 0) {\n",
       "      console.log(\"Bokeh: BokehJS loaded, going straight to plotting\");\n",
       "      run_inline_js();\n",
       "    } else {\n",
       "      load_libs(js_urls, function() {\n",
       "        console.log(\"Bokeh: BokehJS plotting callback run at\", now());\n",
       "        run_inline_js();\n",
       "      });\n",
       "    }\n",
       "  }(this));\n",
       "</script>"
      ]
     },
     "metadata": {},
     "output_type": "display_data"
    }
   ],
   "source": [
    "from bokeh.layouts import row\n",
    "from bokeh.plotting import figure, show\n",
    "from bokeh.io import output_notebook\n",
    "output_notebook()\n",
    "\n",
    "rows = [tuple(row) for row in ampl.getVariable('Buy').getValues()]\n",
    "factors = [index for index, value in rows]\n",
    "x = [value for index, value in rows]\n",
    "\n",
    "dot = figure(\n",
    "    title=\"Categorical Dot Plot\", tools='', toolbar_location=None,\n",
    "    y_range=factors, x_range=[0,12]\n",
    ")\n",
    "\n",
    "dot.segment(0, factors, x, factors, line_width=2, line_color='green')\n",
    "dot.circle(x, factors, size=15, fill_color='orange', line_color='green', line_width=3)\n",
    "show(dot)"
   ]
  },
  {
   "cell_type": "markdown",
   "metadata": {},
   "source": [
    "### Step 12: Store the values of the variable 'Buy' in a Pandas DataFrame"
   ]
  },
  {
   "cell_type": "code",
   "execution_count": 15,
   "metadata": {},
   "outputs": [
    {
     "data": {
      "text/html": [
       "<div>\n",
       "<style>\n",
       "    .dataframe thead tr:only-child th {\n",
       "        text-align: right;\n",
       "    }\n",
       "\n",
       "    .dataframe thead th {\n",
       "        text-align: left;\n",
       "    }\n",
       "\n",
       "    .dataframe tbody tr th {\n",
       "        vertical-align: top;\n",
       "    }\n",
       "</style>\n",
       "<table border=\"1\" class=\"dataframe\">\n",
       "  <thead>\n",
       "    <tr style=\"text-align: right;\">\n",
       "      <th></th>\n",
       "      <th>Buy.val</th>\n",
       "    </tr>\n",
       "  </thead>\n",
       "  <tbody>\n",
       "    <tr>\n",
       "      <th>BEEF</th>\n",
       "      <td>5.226933</td>\n",
       "    </tr>\n",
       "    <tr>\n",
       "      <th>CHK</th>\n",
       "      <td>2.000000</td>\n",
       "    </tr>\n",
       "    <tr>\n",
       "      <th>FISH</th>\n",
       "      <td>2.000000</td>\n",
       "    </tr>\n",
       "    <tr>\n",
       "      <th>HAM</th>\n",
       "      <td>10.000000</td>\n",
       "    </tr>\n",
       "    <tr>\n",
       "      <th>MCH</th>\n",
       "      <td>10.000000</td>\n",
       "    </tr>\n",
       "    <tr>\n",
       "      <th>MTL</th>\n",
       "      <td>10.000000</td>\n",
       "    </tr>\n",
       "    <tr>\n",
       "      <th>SPG</th>\n",
       "      <td>9.439734</td>\n",
       "    </tr>\n",
       "    <tr>\n",
       "      <th>TUR</th>\n",
       "      <td>2.000000</td>\n",
       "    </tr>\n",
       "  </tbody>\n",
       "</table>\n",
       "</div>"
      ],
      "text/plain": [
       "        Buy.val\n",
       "BEEF   5.226933\n",
       "CHK    2.000000\n",
       "FISH   2.000000\n",
       "HAM   10.000000\n",
       "MCH   10.000000\n",
       "MTL   10.000000\n",
       "SPG    9.439734\n",
       "TUR    2.000000"
      ]
     },
     "execution_count": 15,
     "metadata": {},
     "output_type": "execute_result"
    }
   ],
   "source": [
    "ampl.getVariable('Buy').getValues().toPandas()"
   ]
  }
 ],
 "metadata": {
  "kernelspec": {
   "display_name": "Python 2",
   "language": "python",
   "name": "python2"
  },
  "language_info": {
   "codemirror_mode": {
    "name": "ipython",
    "version": 2
   },
   "file_extension": ".py",
   "mimetype": "text/x-python",
   "name": "python",
   "nbconvert_exporter": "python",
   "pygments_lexer": "ipython2",
   "version": "2.7.12"
  }
 },
 "nbformat": 4,
 "nbformat_minor": 2
}
