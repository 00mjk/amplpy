{
 "cells": [
  {
   "cell_type": "markdown",
   "metadata": {},
   "source": [
    "# Example: Diet Model"
   ]
  },
  {
   "cell_type": "markdown",
   "metadata": {},
   "source": [
    "### Step 1: Import amplpy"
   ]
  },
  {
   "cell_type": "code",
   "execution_count": 1,
   "metadata": {
    "collapsed": true
   },
   "outputs": [],
   "source": [
    "from __future__ import print_function\n",
    "from amplpy import AMPL, DataFrame\n",
    "import amplpy"
   ]
  },
  {
   "cell_type": "markdown",
   "metadata": {},
   "source": [
    "### Step 2: Create an AMPL object"
   ]
  },
  {
   "cell_type": "code",
   "execution_count": 2,
   "metadata": {
    "collapsed": true
   },
   "outputs": [],
   "source": [
    "ampl = AMPL()"
   ]
  },
  {
   "cell_type": "markdown",
   "metadata": {},
   "source": [
    "### Step 3: Define the model"
   ]
  },
  {
   "cell_type": "code",
   "execution_count": 3,
   "metadata": {
    "collapsed": true
   },
   "outputs": [],
   "source": [
    "ampl.eval('''\n",
    "set FOOD ;\n",
    "set NUTR ;\n",
    "# Parameters\n",
    "param cost { FOOD } > 0;\n",
    "param f_min { FOOD } >= 0;\n",
    "param f_max {j in FOOD } >= f_min [j];\n",
    "param n_min { NUTR } >= 0;\n",
    "param n_max {i in NUTR } >= n_min [i];\n",
    "param amt {NUTR , FOOD } >= 0;\n",
    "# Variables\n",
    "var Buy {j in FOOD } >= f_min [j], <= f_max [j];\n",
    "# Objective\n",
    "minimize total_cost : sum {j in FOOD } cost [j] * Buy[j];\n",
    "# Contraints\n",
    "subject to diet {i in NUTR }:\n",
    "    n_min [i] <= sum {j in FOOD } amt[i,j] * Buy[j] <= n_max [i];\n",
    "''')"
   ]
  },
  {
   "cell_type": "markdown",
   "metadata": {},
   "source": [
    "### Step 4: Define the initial data"
   ]
  },
  {
   "cell_type": "code",
   "execution_count": 4,
   "metadata": {},
   "outputs": [],
   "source": [
    "foods = ['BEEF', 'CHK', 'FISH', 'HAM', 'MCH', 'MTL', 'SPG', 'TUR']\n",
    "nutrients = ['A', 'C', 'B1', 'B2', 'NA', 'CAL']\n",
    "\n",
    "ampl.getSet('FOOD').setValues(foods)\n",
    "ampl.getSet('NUTR').setValues(nutrients)\n",
    "\n",
    "ampl.setData(DataFrame(\n",
    "    index=[('FOOD', foods)], \n",
    "    columns=[\n",
    "        ('cost', [3.59, 2.59, 2.29, 2.89, 1.89, 1.99, 1.99, 2.49]), \n",
    "        ('f_min', [2, 2, 2, 2, 2, 2, 2, 2]), \n",
    "        ('f_max', [10, 10, 10, 10, 10, 10, 10, 10])\n",
    "    ]\n",
    "))\n",
    "\n",
    "ampl.setData(DataFrame(\n",
    "    index=[('NUTR', nutrients)],\n",
    "    columns=[\n",
    "        ('n_min', [700, 700, 700, 700, 0, 16000]),\n",
    "        ('n_max', [20000, 20000, 20000, 20000, 50000, 24000])\n",
    "    ]\n",
    "))\n",
    "\n",
    "amounts = [\n",
    "    [ 60,    8,   8,  40,   15,  70,   25,   60],\n",
    "    [ 20,    0,  10,  40,   35,  30,   50,   20],\n",
    "    [ 10,   20,  15,  35,   15,  15,   25,   15],\n",
    "    [ 15,   20,  10,  10,   15,  15,   15,   10],\n",
    "    [928, 2180, 945, 278, 1182, 896, 1329, 1397],\n",
    "    [295,  770, 440, 430,  315, 400,  379,  450]\n",
    "]\n",
    "\n",
    "df = DataFrame(('NUTR', 'FOOD'), 'amt')\n",
    "df.setValues({\n",
    "    (nutrient, food): amounts[i][j]\n",
    "    for i, nutrient in enumerate(nutrients)\n",
    "    for j, food in enumerate(foods)\n",
    "})\n",
    "ampl.setData(df)"
   ]
  },
  {
   "cell_type": "markdown",
   "metadata": {},
   "source": [
    "### Step 5: Solve the model"
   ]
  },
  {
   "cell_type": "code",
   "execution_count": 5,
   "metadata": {},
   "outputs": [
    {
     "name": "stdout",
     "output_type": "stream",
     "text": [
      "MINOS 5.51: \n",
      "optimal solution found.\n",
      "13 iterations, objective 119.9897589\n",
      "\n"
     ]
    }
   ],
   "source": [
    "ampl.solve()"
   ]
  },
  {
   "cell_type": "markdown",
   "metadata": {},
   "source": [
    "### Step 6: Access the values of the variable 'Buy'"
   ]
  },
  {
   "cell_type": "code",
   "execution_count": 6,
   "metadata": {},
   "outputs": [
    {
     "name": "stdout",
     "output_type": "stream",
     "text": [
      "   index0    |   Buy.val   \n",
      "   'BEEF'    |   5.22693   \n",
      "   'CHK'     |      2      \n",
      "   'FISH'    |      2      \n",
      "   'HAM'     |      10     \n",
      "   'MCH'     |      10     \n",
      "   'MTL'     |      10     \n",
      "   'SPG'     |   9.43973   \n",
      "   'TUR'     |      2      \n",
      "\n"
     ]
    }
   ],
   "source": [
    "print(ampl.getVariable('Buy').getValues())"
   ]
  },
  {
   "cell_type": "code",
   "execution_count": 7,
   "metadata": {},
   "outputs": [
    {
     "name": "stdout",
     "output_type": "stream",
     "text": [
      "Buy['BEEF'] = 5.22693266833\n",
      "Buy['CHK'] = 2.0\n",
      "Buy['FISH'] = 2.0\n",
      "Buy['HAM'] = 10.0\n",
      "Buy['MCH'] = 10.0\n",
      "Buy['MTL'] = 10.0\n",
      "Buy['SPG'] = 9.43973399834\n",
      "Buy['TUR'] = 2.0\n"
     ]
    }
   ],
   "source": [
    "for row in ampl.getVariable('Buy').getValues():\n",
    "    print(\"Buy['{}'] = {}\".format(row[0], row[1]))"
   ]
  },
  {
   "cell_type": "markdown",
   "metadata": {},
   "source": [
    "### Step 7: Display the objective value"
   ]
  },
  {
   "cell_type": "code",
   "execution_count": 8,
   "metadata": {
    "scrolled": true
   },
   "outputs": [
    {
     "name": "stdout",
     "output_type": "stream",
     "text": [
      "Objective is: 119.989758936\n"
     ]
    }
   ],
   "source": [
    "totalcost = ampl.getObjective('total_cost')\n",
    "print(\"Objective is:\", totalcost.value())"
   ]
  },
  {
   "cell_type": "markdown",
   "metadata": {},
   "source": [
    "### Step 8: Increase the costs of beef and ham"
   ]
  },
  {
   "cell_type": "code",
   "execution_count": 9,
   "metadata": {},
   "outputs": [
    {
     "name": "stdout",
     "output_type": "stream",
     "text": [
      "Increased costs of beef and ham.\n"
     ]
    }
   ],
   "source": [
    "cost = ampl.getParameter('cost')\n",
    "cost.setValues({'BEEF': 5.01, 'HAM': 4.55})\n",
    "print(\"Increased costs of beef and ham.\")"
   ]
  },
  {
   "cell_type": "markdown",
   "metadata": {},
   "source": [
    "### Step 9: Solve the model with the new costs"
   ]
  },
  {
   "cell_type": "code",
   "execution_count": 10,
   "metadata": {},
   "outputs": [
    {
     "name": "stdout",
     "output_type": "stream",
     "text": [
      "MINOS 5.51: \n",
      "optimal solution found.\n",
      "0 iterations, objective 144.0120033\n",
      "\n"
     ]
    }
   ],
   "source": [
    "ampl.solve()"
   ]
  },
  {
   "cell_type": "markdown",
   "metadata": {},
   "source": [
    "### Step 10: Display the new objective value"
   ]
  },
  {
   "cell_type": "code",
   "execution_count": 11,
   "metadata": {},
   "outputs": [
    {
     "name": "stdout",
     "output_type": "stream",
     "text": [
      "New objective value: 144.012003325\n"
     ]
    }
   ],
   "source": [
    "print(\"New objective value:\", totalcost.value())"
   ]
  }
 ],
 "metadata": {
  "kernelspec": {
   "display_name": "Python 2",
   "language": "python",
   "name": "python2"
  },
  "language_info": {
   "codemirror_mode": {
    "name": "ipython",
    "version": 2
   },
   "file_extension": ".py",
   "mimetype": "text/x-python",
   "name": "python",
   "nbconvert_exporter": "python",
   "pygments_lexer": "ipython2",
   "version": "2.7.12"
  }
 },
 "nbformat": 4,
 "nbformat_minor": 2
}
