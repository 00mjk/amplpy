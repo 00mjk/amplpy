{
 "cells": [
  {
   "cell_type": "markdown",
   "metadata": {},
   "source": [
    "# AMPLPY: Setup & Quick Start\n",
    "\n",
    "Documentation: http://amplpy.readthedocs.io\n",
    "\n",
    "GitHub Repository: https://github.com/ampl/amplpy\n",
    "\n",
    "PyPI Repository: https://pypi.python.org/pypi/amplpy \n",
    "\n",
    "## Setup\n",
    "\n",
    "\n",
    "Install from the [PiPY repository](https://pypi.python.org/pypi/amplpy):\n",
    "\n",
    "```\n",
    "$ pip install amplpy\n",
    "```\n",
    "\n",
    "Or:\n",
    "\n",
    "```\n",
    "$ python -m pip install amplpy\n",
    "```\n",
    "\n",
    "Note: For Windows, Linux, and macOS, the `amplpy` package comes with 26 binary wheels for Python 2.7, 3.3, 3.4, 3.5, and 3.6. Please make sure that you are using the latest version of `pip` before installing `amplpy` (upgrade using \"`pip install pip --upgrade`\" or \"`python -m pip install pip --upgrade`\"). If a binary wheel for your platform is not available, a C++ compiler and python development libraries will be required.\n",
    "\n",
    "#### Aditional packages\n",
    "\n",
    "In this tutorial, we will also use [Pandas](http://pandas.pydata.org/) and [Bokeh](http://bokeh.pydata.org/). You can install these packages using \"`pip install pandas bokeh`\" or \"`python -m pip install pandas bokeh`\". Note that Bokeh is not mandatory for this tutorial.\n",
    "\n",
    "We also recommend the use of [Jupyter Notebook](http://jupyter.org/), which was used to create this tutorial. You can install Jupyter using  \"`pip install jupyter`\" or \"`python -m pip install jupyter`\"."
   ]
  },
  {
   "cell_type": "markdown",
   "metadata": {},
   "source": [
    "## Quick start\n",
    "\n",
    "### Step 1: Import some packages that we will use"
   ]
  },
  {
   "cell_type": "code",
   "execution_count": 1,
   "metadata": {
    "collapsed": true
   },
   "outputs": [],
   "source": [
    "from __future__ import print_function"
   ]
  },
  {
   "cell_type": "markdown",
   "metadata": {},
   "source": [
    "Import Pandas:"
   ]
  },
  {
   "cell_type": "code",
   "execution_count": 2,
   "metadata": {
    "collapsed": true
   },
   "outputs": [],
   "source": [
    "import pandas as pd  "
   ]
  },
  {
   "cell_type": "markdown",
   "metadata": {},
   "source": [
    "Import Bokeh (do not run if you do not have Bokeh installed):"
   ]
  },
  {
   "cell_type": "code",
   "execution_count": 3,
   "metadata": {
    "collapsed": true
   },
   "outputs": [],
   "source": [
    "from bokeh.layouts import row\n",
    "from bokeh.plotting import figure, show"
   ]
  },
  {
   "cell_type": "markdown",
   "metadata": {},
   "source": [
    "For Jupyter Notebooks only (do not run if you are not using Bokeh and Jupyter):"
   ]
  },
  {
   "cell_type": "code",
   "execution_count": 4,
   "metadata": {},
   "outputs": [
    {
     "data": {
      "text/html": [
       "\n",
       "    <div class=\"bk-root\">\n",
       "        <a href=\"http://bokeh.pydata.org\" target=\"_blank\" class=\"bk-logo bk-logo-small bk-logo-notebook\"></a>\n",
       "        <span id=\"7515884b-0239-4915-98e6-4649159d2370\">Loading BokehJS ...</span>\n",
       "    </div>"
      ]
     },
     "metadata": {},
     "output_type": "display_data"
    },
    {
     "data": {
      "application/javascript": [
       "\n",
       "(function(global) {\n",
       "  function now() {\n",
       "    return new Date();\n",
       "  }\n",
       "\n",
       "  var force = true;\n",
       "\n",
       "  if (typeof (window._bokeh_onload_callbacks) === \"undefined\" || force === true) {\n",
       "    window._bokeh_onload_callbacks = [];\n",
       "    window._bokeh_is_loading = undefined;\n",
       "  }\n",
       "\n",
       "\n",
       "  \n",
       "  if (typeof (window._bokeh_timeout) === \"undefined\" || force === true) {\n",
       "    window._bokeh_timeout = Date.now() + 5000;\n",
       "    window._bokeh_failed_load = false;\n",
       "  }\n",
       "\n",
       "  var NB_LOAD_WARNING = {'data': {'text/html':\n",
       "     \"<div style='background-color: #fdd'>\\n\"+\n",
       "     \"<p>\\n\"+\n",
       "     \"BokehJS does not appear to have successfully loaded. If loading BokehJS from CDN, this \\n\"+\n",
       "     \"may be due to a slow or bad network connection. Possible fixes:\\n\"+\n",
       "     \"</p>\\n\"+\n",
       "     \"<ul>\\n\"+\n",
       "     \"<li>re-rerun `output_notebook()` to attempt to load from CDN again, or</li>\\n\"+\n",
       "     \"<li>use INLINE resources instead, as so:</li>\\n\"+\n",
       "     \"</ul>\\n\"+\n",
       "     \"<code>\\n\"+\n",
       "     \"from bokeh.resources import INLINE\\n\"+\n",
       "     \"output_notebook(resources=INLINE)\\n\"+\n",
       "     \"</code>\\n\"+\n",
       "     \"</div>\"}};\n",
       "\n",
       "  function display_loaded() {\n",
       "    if (window.Bokeh !== undefined) {\n",
       "      var el = document.getElementById(\"7515884b-0239-4915-98e6-4649159d2370\");\n",
       "      el.textContent = \"BokehJS \" + Bokeh.version + \" successfully loaded.\";\n",
       "    } else if (Date.now() < window._bokeh_timeout) {\n",
       "      setTimeout(display_loaded, 100)\n",
       "    }\n",
       "  }\n",
       "\n",
       "  function run_callbacks() {\n",
       "    try {\n",
       "      window._bokeh_onload_callbacks.forEach(function(callback) { callback() });\n",
       "    }\n",
       "    finally {\n",
       "      delete window._bokeh_onload_callbacks\n",
       "    }\n",
       "    console.info(\"Bokeh: all callbacks have finished\");\n",
       "  }\n",
       "\n",
       "  function load_libs(js_urls, callback) {\n",
       "    window._bokeh_onload_callbacks.push(callback);\n",
       "    if (window._bokeh_is_loading > 0) {\n",
       "      console.log(\"Bokeh: BokehJS is being loaded, scheduling callback at\", now());\n",
       "      return null;\n",
       "    }\n",
       "    if (js_urls == null || js_urls.length === 0) {\n",
       "      run_callbacks();\n",
       "      return null;\n",
       "    }\n",
       "    console.log(\"Bokeh: BokehJS not loaded, scheduling load and callback at\", now());\n",
       "    window._bokeh_is_loading = js_urls.length;\n",
       "    for (var i = 0; i < js_urls.length; i++) {\n",
       "      var url = js_urls[i];\n",
       "      var s = document.createElement('script');\n",
       "      s.src = url;\n",
       "      s.async = false;\n",
       "      s.onreadystatechange = s.onload = function() {\n",
       "        window._bokeh_is_loading--;\n",
       "        if (window._bokeh_is_loading === 0) {\n",
       "          console.log(\"Bokeh: all BokehJS libraries loaded\");\n",
       "          run_callbacks()\n",
       "        }\n",
       "      };\n",
       "      s.onerror = function() {\n",
       "        console.warn(\"failed to load library \" + url);\n",
       "      };\n",
       "      console.log(\"Bokeh: injecting script tag for BokehJS library: \", url);\n",
       "      document.getElementsByTagName(\"head\")[0].appendChild(s);\n",
       "    }\n",
       "  };var element = document.getElementById(\"7515884b-0239-4915-98e6-4649159d2370\");\n",
       "  if (element == null) {\n",
       "    console.log(\"Bokeh: ERROR: autoload.js configured with elementid '7515884b-0239-4915-98e6-4649159d2370' but no matching script tag was found. \")\n",
       "    return false;\n",
       "  }\n",
       "\n",
       "  var js_urls = [\"https://cdn.pydata.org/bokeh/release/bokeh-0.12.6.min.js\", \"https://cdn.pydata.org/bokeh/release/bokeh-widgets-0.12.6.min.js\"];\n",
       "\n",
       "  var inline_js = [\n",
       "    function(Bokeh) {\n",
       "      Bokeh.set_log_level(\"info\");\n",
       "    },\n",
       "    \n",
       "    function(Bokeh) {\n",
       "      \n",
       "    },\n",
       "    \n",
       "    function(Bokeh) {\n",
       "      \n",
       "      document.getElementById(\"7515884b-0239-4915-98e6-4649159d2370\").textContent = \"BokehJS is loading...\";\n",
       "    },\n",
       "    function(Bokeh) {\n",
       "      console.log(\"Bokeh: injecting CSS: https://cdn.pydata.org/bokeh/release/bokeh-0.12.6.min.css\");\n",
       "      Bokeh.embed.inject_css(\"https://cdn.pydata.org/bokeh/release/bokeh-0.12.6.min.css\");\n",
       "      console.log(\"Bokeh: injecting CSS: https://cdn.pydata.org/bokeh/release/bokeh-widgets-0.12.6.min.css\");\n",
       "      Bokeh.embed.inject_css(\"https://cdn.pydata.org/bokeh/release/bokeh-widgets-0.12.6.min.css\");\n",
       "    }\n",
       "  ];\n",
       "\n",
       "  function run_inline_js() {\n",
       "    \n",
       "    if ((window.Bokeh !== undefined) || (force === true)) {\n",
       "      for (var i = 0; i < inline_js.length; i++) {\n",
       "        inline_js[i](window.Bokeh);\n",
       "      }if (force === true) {\n",
       "        display_loaded();\n",
       "      }} else if (Date.now() < window._bokeh_timeout) {\n",
       "      setTimeout(run_inline_js, 100);\n",
       "    } else if (!window._bokeh_failed_load) {\n",
       "      console.log(\"Bokeh: BokehJS failed to load within specified timeout.\");\n",
       "      window._bokeh_failed_load = true;\n",
       "    } else if (force !== true) {\n",
       "      var cell = $(document.getElementById(\"7515884b-0239-4915-98e6-4649159d2370\")).parents('.cell').data().cell;\n",
       "      cell.output_area.append_execute_result(NB_LOAD_WARNING)\n",
       "    }\n",
       "\n",
       "  }\n",
       "\n",
       "  if (window._bokeh_is_loading === 0) {\n",
       "    console.log(\"Bokeh: BokehJS loaded, going straight to plotting\");\n",
       "    run_inline_js();\n",
       "  } else {\n",
       "    load_libs(js_urls, function() {\n",
       "      console.log(\"Bokeh: BokehJS plotting callback run at\", now());\n",
       "      run_inline_js();\n",
       "    });\n",
       "  }\n",
       "}(this));"
      ]
     },
     "metadata": {},
     "output_type": "display_data"
    }
   ],
   "source": [
    "from bokeh.io import output_notebook\n",
    "output_notebook()"
   ]
  },
  {
   "cell_type": "markdown",
   "metadata": {},
   "source": [
    "### Step 2: Import the amplpy components that we will use"
   ]
  },
  {
   "cell_type": "code",
   "execution_count": 5,
   "metadata": {
    "collapsed": true
   },
   "outputs": [],
   "source": [
    "from amplpy import AMPL, Environment, DataFrame"
   ]
  },
  {
   "cell_type": "markdown",
   "metadata": {},
   "source": [
    "### Step 3: Create an AMPL object"
   ]
  },
  {
   "cell_type": "code",
   "execution_count": 6,
   "metadata": {
    "collapsed": true
   },
   "outputs": [],
   "source": [
    "ampl = AMPL()"
   ]
  },
  {
   "cell_type": "markdown",
   "metadata": {},
   "source": [
    "If the AMPL installation directory is not in the system search path, you should create the AMPL object as follows instead:\n",
    "\n",
    "```python\n",
    "ampl = AMPL(Environment('full path to the AMPL installation directory'))\n",
    "```\n",
    "Note that you may need to use raw strings (e.g., `r'C:\\ampl\\ampl.mswin64'`) or escape the slashes (e.g., `'C:\\\\ampl\\\\ampl.mswin64'`) if the path includes backslashes."
   ]
  },
  {
   "cell_type": "markdown",
   "metadata": {},
   "source": [
    "### Step 4: Select the solver"
   ]
  },
  {
   "cell_type": "code",
   "execution_count": 7,
   "metadata": {
    "collapsed": true
   },
   "outputs": [],
   "source": [
    "ampl.setOption('solver', 'gurobi')"
   ]
  },
  {
   "cell_type": "markdown",
   "metadata": {},
   "source": [
    "### Step 5: Define the model"
   ]
  },
  {
   "cell_type": "code",
   "execution_count": 8,
   "metadata": {
    "collapsed": true
   },
   "outputs": [],
   "source": [
    "ampl.eval('''\n",
    "set FOOD;\n",
    "set NUTR;\n",
    "# Parameters\n",
    "param cost { FOOD } > 0;\n",
    "param f_min { FOOD } >= 0;\n",
    "param f_max {j in FOOD } >= f_min [j];\n",
    "param n_min { NUTR } >= 0;\n",
    "param n_max {i in NUTR } >= n_min [i];\n",
    "param amt {NUTR , FOOD } >= 0;\n",
    "# Variables\n",
    "var Buy {j in FOOD } >= f_min [j], <= f_max [j];\n",
    "# Objective\n",
    "minimize total_cost : sum {j in FOOD } cost [j] * Buy[j];\n",
    "# Contraints\n",
    "subject to diet {i in NUTR }:\n",
    "    n_min [i] <= sum {j in FOOD } amt[i,j] * Buy[j] <= n_max [i];\n",
    "''')"
   ]
  },
  {
   "cell_type": "markdown",
   "metadata": {},
   "source": [
    "Note: Alternatively you can read the model from a file using \"`ampl.read(filename)`\"."
   ]
  },
  {
   "cell_type": "markdown",
   "metadata": {},
   "source": [
    "### Step 6: Define the initial data"
   ]
  },
  {
   "cell_type": "code",
   "execution_count": 9,
   "metadata": {
    "collapsed": true
   },
   "outputs": [],
   "source": [
    "foods = ['BEEF', 'CHK', 'FISH', 'HAM', 'MCH', 'MTL', 'SPG', 'TUR']\n",
    "nutrients = ['A', 'C', 'B1', 'B2', 'NA', 'CAL']"
   ]
  },
  {
   "cell_type": "markdown",
   "metadata": {},
   "source": [
    "#### Define AMPL sets fom python lists"
   ]
  },
  {
   "cell_type": "code",
   "execution_count": 10,
   "metadata": {
    "collapsed": true
   },
   "outputs": [],
   "source": [
    "ampl.getSet('FOOD').setValues(foods)\n",
    "ampl.getSet('NUTR').setValues(nutrients)"
   ]
  },
  {
   "cell_type": "markdown",
   "metadata": {},
   "source": [
    "#### Define data using an amplpy DataFrame"
   ]
  },
  {
   "cell_type": "code",
   "execution_count": 11,
   "metadata": {
    "collapsed": true
   },
   "outputs": [],
   "source": [
    "ampl.setData(DataFrame(\n",
    "    index=[('FOOD', foods)], \n",
    "    columns=[\n",
    "        ('cost', [3.59, 2.59, 2.29, 2.89, 1.89, 1.99, 1.99, 2.49]), \n",
    "        ('f_min', [2, 2, 2, 2, 2, 2, 2, 2]), \n",
    "        ('f_max', [10, 10, 10, 10, 10, 10, 10, 10])\n",
    "    ]\n",
    "))"
   ]
  },
  {
   "cell_type": "markdown",
   "metadata": {},
   "source": [
    "#### Define data using a Pandas DataFrame"
   ]
  },
  {
   "cell_type": "code",
   "execution_count": 12,
   "metadata": {
    "collapsed": true,
    "scrolled": true
   },
   "outputs": [],
   "source": [
    "df = pd.DataFrame({\n",
    "    'n_min': [700, 700, 700, 700, 0, 16000], \n",
    "    'n_max': [20000, 20000, 20000, 20000, 50000, 24000]\n",
    "}, \n",
    "    index=nutrients\n",
    ")\n",
    "ampl.setData(DataFrame.fromPandas(df))"
   ]
  },
  {
   "cell_type": "markdown",
   "metadata": {},
   "source": [
    "#### Define data using a python dictionary"
   ]
  },
  {
   "cell_type": "code",
   "execution_count": 13,
   "metadata": {
    "collapsed": true
   },
   "outputs": [],
   "source": [
    "amounts = [\n",
    "    [ 60,    8,   8,  40,   15,  70,   25,   60],\n",
    "    [ 20,    0,  10,  40,   35,  30,   50,   20],\n",
    "    [ 10,   20,  15,  35,   15,  15,   25,   15],\n",
    "    [ 15,   20,  10,  10,   15,  15,   15,   10],\n",
    "    [928, 2180, 945, 278, 1182, 896, 1329, 1397],\n",
    "    [295,  770, 440, 430,  315, 400,  379,  450]\n",
    "]\n",
    "df = DataFrame(('NUTR', 'FOOD'), 'amt')\n",
    "df.setValues({\n",
    "    (nutrient, food): amounts[i][j]\n",
    "    for i, nutrient in enumerate(nutrients)\n",
    "    for j, food in enumerate(foods)\n",
    "})\n",
    "ampl.setData(df)"
   ]
  },
  {
   "cell_type": "markdown",
   "metadata": {},
   "source": [
    "### Step 7: Solve the model"
   ]
  },
  {
   "cell_type": "code",
   "execution_count": 14,
   "metadata": {},
   "outputs": [
    {
     "name": "stdout",
     "output_type": "stream",
     "text": [
      "Gurobi 7.5.1: optimal solution; objective 119.9897589\n",
      "5 simplex iterations\n"
     ]
    }
   ],
   "source": [
    "ampl.solve()"
   ]
  },
  {
   "cell_type": "markdown",
   "metadata": {},
   "source": [
    "### Step 8: Create a Pandas DataFrame with the values of the variable 'Buy'"
   ]
  },
  {
   "cell_type": "code",
   "execution_count": 15,
   "metadata": {
    "scrolled": true
   },
   "outputs": [
    {
     "data": {
      "text/html": [
       "<div>\n",
       "<style>\n",
       "    .dataframe thead tr:only-child th {\n",
       "        text-align: right;\n",
       "    }\n",
       "\n",
       "    .dataframe thead th {\n",
       "        text-align: left;\n",
       "    }\n",
       "\n",
       "    .dataframe tbody tr th {\n",
       "        vertical-align: top;\n",
       "    }\n",
       "</style>\n",
       "<table border=\"1\" class=\"dataframe\">\n",
       "  <thead>\n",
       "    <tr style=\"text-align: right;\">\n",
       "      <th></th>\n",
       "      <th>Buy.val</th>\n",
       "    </tr>\n",
       "  </thead>\n",
       "  <tbody>\n",
       "    <tr>\n",
       "      <th>BEEF</th>\n",
       "      <td>5.226933</td>\n",
       "    </tr>\n",
       "    <tr>\n",
       "      <th>CHK</th>\n",
       "      <td>2.000000</td>\n",
       "    </tr>\n",
       "    <tr>\n",
       "      <th>FISH</th>\n",
       "      <td>2.000000</td>\n",
       "    </tr>\n",
       "    <tr>\n",
       "      <th>HAM</th>\n",
       "      <td>10.000000</td>\n",
       "    </tr>\n",
       "    <tr>\n",
       "      <th>MCH</th>\n",
       "      <td>10.000000</td>\n",
       "    </tr>\n",
       "    <tr>\n",
       "      <th>MTL</th>\n",
       "      <td>10.000000</td>\n",
       "    </tr>\n",
       "    <tr>\n",
       "      <th>SPG</th>\n",
       "      <td>9.439734</td>\n",
       "    </tr>\n",
       "    <tr>\n",
       "      <th>TUR</th>\n",
       "      <td>2.000000</td>\n",
       "    </tr>\n",
       "  </tbody>\n",
       "</table>\n",
       "</div>"
      ],
      "text/plain": [
       "        Buy.val\n",
       "BEEF   5.226933\n",
       "CHK    2.000000\n",
       "FISH   2.000000\n",
       "HAM   10.000000\n",
       "MCH   10.000000\n",
       "MTL   10.000000\n",
       "SPG    9.439734\n",
       "TUR    2.000000"
      ]
     },
     "execution_count": 15,
     "metadata": {},
     "output_type": "execute_result"
    }
   ],
   "source": [
    "ampl.getVariable('Buy').getValues().toPandas()"
   ]
  },
  {
   "cell_type": "markdown",
   "metadata": {},
   "source": [
    "### Step 9: Display the objective value"
   ]
  },
  {
   "cell_type": "code",
   "execution_count": 16,
   "metadata": {
    "scrolled": true
   },
   "outputs": [
    {
     "name": "stdout",
     "output_type": "stream",
     "text": [
      "Objective is: 119.989758936\n"
     ]
    }
   ],
   "source": [
    "totalcost = ampl.getObjective('total_cost')\n",
    "print(\"Objective is:\", totalcost.value())"
   ]
  },
  {
   "cell_type": "markdown",
   "metadata": {},
   "source": [
    "### Step 10: Increase the costs of beef and ham"
   ]
  },
  {
   "cell_type": "code",
   "execution_count": 17,
   "metadata": {},
   "outputs": [
    {
     "name": "stdout",
     "output_type": "stream",
     "text": [
      "Increased costs of beef and ham.\n"
     ]
    }
   ],
   "source": [
    "cost = ampl.getParameter('cost')\n",
    "cost.setValues({'BEEF': 5.01, 'HAM': 4.55})\n",
    "print(\"Increased costs of beef and ham.\")"
   ]
  },
  {
   "cell_type": "markdown",
   "metadata": {},
   "source": [
    "### Step 11: Solve the model with the new costs"
   ]
  },
  {
   "cell_type": "code",
   "execution_count": 18,
   "metadata": {},
   "outputs": [
    {
     "name": "stdout",
     "output_type": "stream",
     "text": [
      "Gurobi 7.5.1: optimal solution; objective 144.0120033\n",
      "5 simplex iterations\n"
     ]
    }
   ],
   "source": [
    "ampl.solve()"
   ]
  },
  {
   "cell_type": "markdown",
   "metadata": {},
   "source": [
    "### Step 12: Display the new objective value"
   ]
  },
  {
   "cell_type": "code",
   "execution_count": 19,
   "metadata": {},
   "outputs": [
    {
     "name": "stdout",
     "output_type": "stream",
     "text": [
      "New objective value: 144.012003325\n"
     ]
    }
   ],
   "source": [
    "print(\"New objective value:\", totalcost.value())"
   ]
  },
  {
   "cell_type": "markdown",
   "metadata": {},
   "source": [
    "### Step 13: Display the value of Buy['BEEF']"
   ]
  },
  {
   "cell_type": "code",
   "execution_count": 20,
   "metadata": {},
   "outputs": [
    {
     "name": "stdout",
     "output_type": "stream",
     "text": [
      "Buy['BEEF'].val = 5.22693266833\n"
     ]
    }
   ],
   "source": [
    "Buy = ampl.getVariable('Buy')\n",
    "print(\"Buy['BEEF'].val = {}\".format(Buy['BEEF'].value()))"
   ]
  },
  {
   "cell_type": "markdown",
   "metadata": {},
   "source": [
    "### Step 14: Display the dual value of each diet constraint"
   ]
  },
  {
   "cell_type": "code",
   "execution_count": 21,
   "metadata": {},
   "outputs": [
    {
     "name": "stdout",
     "output_type": "stream",
     "text": [
      "diet['A'].dual = 0.0\n",
      "diet['C'].dual = 0.0\n",
      "diet['B1'].dual = 0.0\n",
      "diet['B2'].dual = 0.799928512053\n",
      "diet['NA'].dual = -0.00753117206983\n",
      "diet['CAL'].dual = 0.0\n"
     ]
    }
   ],
   "source": [
    "diet = ampl.getConstraint('diet')\n",
    "for nutr in nutrients:\n",
    "    print(\"diet['{}'].dual = {}\".format(nutr, diet[nutr].dual()))"
   ]
  },
  {
   "cell_type": "markdown",
   "metadata": {},
   "source": [
    "### Step 15: Display the values of the variable 'Buy' using Bokeh"
   ]
  },
  {
   "cell_type": "code",
   "execution_count": 22,
   "metadata": {},
   "outputs": [
    {
     "data": {
      "text/html": [
       "\n",
       "\n",
       "    <div class=\"bk-root\">\n",
       "        <div class=\"bk-plotdiv\" id=\"a3484f35-fa2d-487c-9355-e5a95f9ac686\"></div>\n",
       "    </div>\n",
       "<script type=\"text/javascript\">\n",
       "  \n",
       "  (function(global) {\n",
       "    function now() {\n",
       "      return new Date();\n",
       "    }\n",
       "  \n",
       "    var force = false;\n",
       "  \n",
       "    if (typeof (window._bokeh_onload_callbacks) === \"undefined\" || force === true) {\n",
       "      window._bokeh_onload_callbacks = [];\n",
       "      window._bokeh_is_loading = undefined;\n",
       "    }\n",
       "  \n",
       "  \n",
       "    \n",
       "    if (typeof (window._bokeh_timeout) === \"undefined\" || force === true) {\n",
       "      window._bokeh_timeout = Date.now() + 0;\n",
       "      window._bokeh_failed_load = false;\n",
       "    }\n",
       "  \n",
       "    var NB_LOAD_WARNING = {'data': {'text/html':\n",
       "       \"<div style='background-color: #fdd'>\\n\"+\n",
       "       \"<p>\\n\"+\n",
       "       \"BokehJS does not appear to have successfully loaded. If loading BokehJS from CDN, this \\n\"+\n",
       "       \"may be due to a slow or bad network connection. Possible fixes:\\n\"+\n",
       "       \"</p>\\n\"+\n",
       "       \"<ul>\\n\"+\n",
       "       \"<li>re-rerun `output_notebook()` to attempt to load from CDN again, or</li>\\n\"+\n",
       "       \"<li>use INLINE resources instead, as so:</li>\\n\"+\n",
       "       \"</ul>\\n\"+\n",
       "       \"<code>\\n\"+\n",
       "       \"from bokeh.resources import INLINE\\n\"+\n",
       "       \"output_notebook(resources=INLINE)\\n\"+\n",
       "       \"</code>\\n\"+\n",
       "       \"</div>\"}};\n",
       "  \n",
       "    function display_loaded() {\n",
       "      if (window.Bokeh !== undefined) {\n",
       "        var el = document.getElementById(\"a3484f35-fa2d-487c-9355-e5a95f9ac686\");\n",
       "        el.textContent = \"BokehJS \" + Bokeh.version + \" successfully loaded.\";\n",
       "      } else if (Date.now() < window._bokeh_timeout) {\n",
       "        setTimeout(display_loaded, 100)\n",
       "      }\n",
       "    }\n",
       "  \n",
       "    function run_callbacks() {\n",
       "      try {\n",
       "        window._bokeh_onload_callbacks.forEach(function(callback) { callback() });\n",
       "      }\n",
       "      finally {\n",
       "        delete window._bokeh_onload_callbacks\n",
       "      }\n",
       "      console.info(\"Bokeh: all callbacks have finished\");\n",
       "    }\n",
       "  \n",
       "    function load_libs(js_urls, callback) {\n",
       "      window._bokeh_onload_callbacks.push(callback);\n",
       "      if (window._bokeh_is_loading > 0) {\n",
       "        console.log(\"Bokeh: BokehJS is being loaded, scheduling callback at\", now());\n",
       "        return null;\n",
       "      }\n",
       "      if (js_urls == null || js_urls.length === 0) {\n",
       "        run_callbacks();\n",
       "        return null;\n",
       "      }\n",
       "      console.log(\"Bokeh: BokehJS not loaded, scheduling load and callback at\", now());\n",
       "      window._bokeh_is_loading = js_urls.length;\n",
       "      for (var i = 0; i < js_urls.length; i++) {\n",
       "        var url = js_urls[i];\n",
       "        var s = document.createElement('script');\n",
       "        s.src = url;\n",
       "        s.async = false;\n",
       "        s.onreadystatechange = s.onload = function() {\n",
       "          window._bokeh_is_loading--;\n",
       "          if (window._bokeh_is_loading === 0) {\n",
       "            console.log(\"Bokeh: all BokehJS libraries loaded\");\n",
       "            run_callbacks()\n",
       "          }\n",
       "        };\n",
       "        s.onerror = function() {\n",
       "          console.warn(\"failed to load library \" + url);\n",
       "        };\n",
       "        console.log(\"Bokeh: injecting script tag for BokehJS library: \", url);\n",
       "        document.getElementsByTagName(\"head\")[0].appendChild(s);\n",
       "      }\n",
       "    };var element = document.getElementById(\"a3484f35-fa2d-487c-9355-e5a95f9ac686\");\n",
       "    if (element == null) {\n",
       "      console.log(\"Bokeh: ERROR: autoload.js configured with elementid 'a3484f35-fa2d-487c-9355-e5a95f9ac686' but no matching script tag was found. \")\n",
       "      return false;\n",
       "    }\n",
       "  \n",
       "    var js_urls = [];\n",
       "  \n",
       "    var inline_js = [\n",
       "      function(Bokeh) {\n",
       "        (function() {\n",
       "          var fn = function() {\n",
       "            var docs_json = {\"267490eb-75d2-4744-9efc-5e7bd15c913f\":{\"roots\":{\"references\":[{\"attributes\":{\"line_alpha\":{\"value\":0.1},\"line_color\":{\"value\":\"#1f77b4\"},\"line_width\":{\"value\":2},\"x0\":{\"value\":0},\"x1\":{\"field\":\"x1\"},\"y0\":{\"field\":\"y0\"},\"y1\":{\"field\":\"y1\"}},\"id\":\"e1b44f46-f825-4852-b644-037dae5f95f9\",\"type\":\"Segment\"},{\"attributes\":{\"data_source\":{\"id\":\"3e0a7c0f-cab1-499b-95a2-f7dab8e1df9a\",\"type\":\"ColumnDataSource\"},\"glyph\":{\"id\":\"adc29589-12db-4b29-98e7-e15f5b3a3def\",\"type\":\"Segment\"},\"hover_glyph\":null,\"muted_glyph\":null,\"nonselection_glyph\":{\"id\":\"e1b44f46-f825-4852-b644-037dae5f95f9\",\"type\":\"Segment\"},\"selection_glyph\":null},\"id\":\"12ee09df-dd8a-4f21-b80f-8a5941b5229b\",\"type\":\"GlyphRenderer\"},{\"attributes\":{},\"id\":\"58158128-023e-49c5-871d-fa5e29ebb18b\",\"type\":\"CategoricalTicker\"},{\"attributes\":{\"active_drag\":\"auto\",\"active_inspect\":\"auto\",\"active_scroll\":\"auto\",\"active_tap\":\"auto\"},\"id\":\"6757432b-3797-400a-9765-98654c7d27f2\",\"type\":\"Toolbar\"},{\"attributes\":{},\"id\":\"9d8c02c2-a70d-4e6e-a6f5-746b67cb2b62\",\"type\":\"ToolEvents\"},{\"attributes\":{\"formatter\":{\"id\":\"dfec384c-2d98-4f1e-b0b5-ccfcad402b6e\",\"type\":\"CategoricalTickFormatter\"},\"plot\":{\"id\":\"4edeec9f-d191-4fa0-9b1c-65c2fd28cc68\",\"subtype\":\"Figure\",\"type\":\"Plot\"},\"ticker\":{\"id\":\"58158128-023e-49c5-871d-fa5e29ebb18b\",\"type\":\"CategoricalTicker\"}},\"id\":\"69343260-24ee-47d8-a9ad-fb4c9b7cc029\",\"type\":\"CategoricalAxis\"},{\"attributes\":{},\"id\":\"6d5d7d74-966e-430c-bc7d-68c13c410d29\",\"type\":\"BasicTicker\"},{\"attributes\":{\"below\":[{\"id\":\"ae6ff9c2-fe4e-4255-89f3-7d664233d974\",\"type\":\"LinearAxis\"}],\"left\":[{\"id\":\"69343260-24ee-47d8-a9ad-fb4c9b7cc029\",\"type\":\"CategoricalAxis\"}],\"renderers\":[{\"id\":\"ae6ff9c2-fe4e-4255-89f3-7d664233d974\",\"type\":\"LinearAxis\"},{\"id\":\"3b65aa24-d2ae-4803-9e73-926eec52a658\",\"type\":\"Grid\"},{\"id\":\"69343260-24ee-47d8-a9ad-fb4c9b7cc029\",\"type\":\"CategoricalAxis\"},{\"id\":\"59d8fb2c-a250-47ea-aada-e373f2e58b66\",\"type\":\"Grid\"},{\"id\":\"12ee09df-dd8a-4f21-b80f-8a5941b5229b\",\"type\":\"GlyphRenderer\"},{\"id\":\"8efb2485-83ec-45f8-8007-750e0e57b055\",\"type\":\"GlyphRenderer\"}],\"title\":{\"id\":\"3705d1e1-ed3f-4c8a-9976-fe4439662491\",\"type\":\"Title\"},\"tool_events\":{\"id\":\"9d8c02c2-a70d-4e6e-a6f5-746b67cb2b62\",\"type\":\"ToolEvents\"},\"toolbar\":{\"id\":\"6757432b-3797-400a-9765-98654c7d27f2\",\"type\":\"Toolbar\"},\"toolbar_location\":null,\"x_range\":{\"id\":\"d5daa79d-a81e-481e-b028-d82226a8310f\",\"type\":\"Range1d\"},\"x_scale\":{\"id\":\"fc94f1bb-0eee-4c55-a9a3-607441063f4e\",\"type\":\"LinearScale\"},\"y_range\":{\"id\":\"d342d562-bee9-4772-8054-db6ec328db20\",\"type\":\"FactorRange\"},\"y_scale\":{\"id\":\"3add390b-f2bb-4c88-902e-d6c18a1132ce\",\"type\":\"CategoricalScale\"}},\"id\":\"4edeec9f-d191-4fa0-9b1c-65c2fd28cc68\",\"subtype\":\"Figure\",\"type\":\"Plot\"},{\"attributes\":{\"data_source\":{\"id\":\"4a01f359-9a00-42db-bf29-460a480bfc14\",\"type\":\"ColumnDataSource\"},\"glyph\":{\"id\":\"c2338d7c-9087-45ec-8e30-52569e9182a4\",\"type\":\"Circle\"},\"hover_glyph\":null,\"muted_glyph\":null,\"nonselection_glyph\":{\"id\":\"323a15b3-cce5-4ed4-983c-b51fd31460f3\",\"type\":\"Circle\"},\"selection_glyph\":null},\"id\":\"8efb2485-83ec-45f8-8007-750e0e57b055\",\"type\":\"GlyphRenderer\"},{\"attributes\":{\"callback\":null,\"factors\":[\"BEEF\",\"CHK\",\"FISH\",\"HAM\",\"MCH\",\"MTL\",\"SPG\",\"TUR\"]},\"id\":\"d342d562-bee9-4772-8054-db6ec328db20\",\"type\":\"FactorRange\"},{\"attributes\":{\"fill_alpha\":{\"value\":0.1},\"fill_color\":{\"value\":\"#1f77b4\"},\"line_alpha\":{\"value\":0.1},\"line_color\":{\"value\":\"#1f77b4\"},\"line_width\":{\"value\":3},\"size\":{\"units\":\"screen\",\"value\":15},\"x\":{\"field\":\"x\"},\"y\":{\"field\":\"y\"}},\"id\":\"323a15b3-cce5-4ed4-983c-b51fd31460f3\",\"type\":\"Circle\"},{\"attributes\":{\"line_color\":{\"value\":\"green\"},\"line_width\":{\"value\":2},\"x0\":{\"value\":0},\"x1\":{\"field\":\"x1\"},\"y0\":{\"field\":\"y0\"},\"y1\":{\"field\":\"y1\"}},\"id\":\"adc29589-12db-4b29-98e7-e15f5b3a3def\",\"type\":\"Segment\"},{\"attributes\":{},\"id\":\"c5449ff2-867b-4c9b-9f8b-c2e71909ad01\",\"type\":\"BasicTickFormatter\"},{\"attributes\":{\"callback\":null,\"column_names\":[\"y\",\"x\"],\"data\":{\"x\":[5.226932668329175,2.0,2.0,10.0,10.0,10.0,9.439733998337491,2.0],\"y\":[\"BEEF\",\"CHK\",\"FISH\",\"HAM\",\"MCH\",\"MTL\",\"SPG\",\"TUR\"]}},\"id\":\"4a01f359-9a00-42db-bf29-460a480bfc14\",\"type\":\"ColumnDataSource\"},{\"attributes\":{\"callback\":null,\"column_names\":[\"y1\",\"y0\",\"x1\"],\"data\":{\"x1\":[5.226932668329175,2.0,2.0,10.0,10.0,10.0,9.439733998337491,2.0],\"y0\":[\"BEEF\",\"CHK\",\"FISH\",\"HAM\",\"MCH\",\"MTL\",\"SPG\",\"TUR\"],\"y1\":[\"BEEF\",\"CHK\",\"FISH\",\"HAM\",\"MCH\",\"MTL\",\"SPG\",\"TUR\"]}},\"id\":\"3e0a7c0f-cab1-499b-95a2-f7dab8e1df9a\",\"type\":\"ColumnDataSource\"},{\"attributes\":{},\"id\":\"dfec384c-2d98-4f1e-b0b5-ccfcad402b6e\",\"type\":\"CategoricalTickFormatter\"},{\"attributes\":{},\"id\":\"fc94f1bb-0eee-4c55-a9a3-607441063f4e\",\"type\":\"LinearScale\"},{\"attributes\":{\"plot\":{\"id\":\"4edeec9f-d191-4fa0-9b1c-65c2fd28cc68\",\"subtype\":\"Figure\",\"type\":\"Plot\"},\"ticker\":{\"id\":\"6d5d7d74-966e-430c-bc7d-68c13c410d29\",\"type\":\"BasicTicker\"}},\"id\":\"3b65aa24-d2ae-4803-9e73-926eec52a658\",\"type\":\"Grid\"},{\"attributes\":{\"dimension\":1,\"plot\":{\"id\":\"4edeec9f-d191-4fa0-9b1c-65c2fd28cc68\",\"subtype\":\"Figure\",\"type\":\"Plot\"},\"ticker\":{\"id\":\"58158128-023e-49c5-871d-fa5e29ebb18b\",\"type\":\"CategoricalTicker\"}},\"id\":\"59d8fb2c-a250-47ea-aada-e373f2e58b66\",\"type\":\"Grid\"},{\"attributes\":{\"formatter\":{\"id\":\"c5449ff2-867b-4c9b-9f8b-c2e71909ad01\",\"type\":\"BasicTickFormatter\"},\"plot\":{\"id\":\"4edeec9f-d191-4fa0-9b1c-65c2fd28cc68\",\"subtype\":\"Figure\",\"type\":\"Plot\"},\"ticker\":{\"id\":\"6d5d7d74-966e-430c-bc7d-68c13c410d29\",\"type\":\"BasicTicker\"}},\"id\":\"ae6ff9c2-fe4e-4255-89f3-7d664233d974\",\"type\":\"LinearAxis\"},{\"attributes\":{\"fill_color\":{\"value\":\"orange\"},\"line_color\":{\"value\":\"green\"},\"line_width\":{\"value\":3},\"size\":{\"units\":\"screen\",\"value\":15},\"x\":{\"field\":\"x\"},\"y\":{\"field\":\"y\"}},\"id\":\"c2338d7c-9087-45ec-8e30-52569e9182a4\",\"type\":\"Circle\"},{\"attributes\":{},\"id\":\"3add390b-f2bb-4c88-902e-d6c18a1132ce\",\"type\":\"CategoricalScale\"},{\"attributes\":{\"plot\":null,\"text\":\"Categorical Dot Plot\"},\"id\":\"3705d1e1-ed3f-4c8a-9976-fe4439662491\",\"type\":\"Title\"},{\"attributes\":{\"callback\":null,\"end\":12},\"id\":\"d5daa79d-a81e-481e-b028-d82226a8310f\",\"type\":\"Range1d\"}],\"root_ids\":[\"4edeec9f-d191-4fa0-9b1c-65c2fd28cc68\"]},\"title\":\"Bokeh Application\",\"version\":\"0.12.6\"}};\n",
       "            var render_items = [{\"docid\":\"267490eb-75d2-4744-9efc-5e7bd15c913f\",\"elementid\":\"a3484f35-fa2d-487c-9355-e5a95f9ac686\",\"modelid\":\"4edeec9f-d191-4fa0-9b1c-65c2fd28cc68\"}];\n",
       "            \n",
       "            Bokeh.embed.embed_items(docs_json, render_items);\n",
       "          };\n",
       "          if (document.readyState != \"loading\") fn();\n",
       "          else document.addEventListener(\"DOMContentLoaded\", fn);\n",
       "        })();\n",
       "      },\n",
       "      function(Bokeh) {\n",
       "      }\n",
       "    ];\n",
       "  \n",
       "    function run_inline_js() {\n",
       "      \n",
       "      if ((window.Bokeh !== undefined) || (force === true)) {\n",
       "        for (var i = 0; i < inline_js.length; i++) {\n",
       "          inline_js[i](window.Bokeh);\n",
       "        }if (force === true) {\n",
       "          display_loaded();\n",
       "        }} else if (Date.now() < window._bokeh_timeout) {\n",
       "        setTimeout(run_inline_js, 100);\n",
       "      } else if (!window._bokeh_failed_load) {\n",
       "        console.log(\"Bokeh: BokehJS failed to load within specified timeout.\");\n",
       "        window._bokeh_failed_load = true;\n",
       "      } else if (force !== true) {\n",
       "        var cell = $(document.getElementById(\"a3484f35-fa2d-487c-9355-e5a95f9ac686\")).parents('.cell').data().cell;\n",
       "        cell.output_area.append_execute_result(NB_LOAD_WARNING)\n",
       "      }\n",
       "  \n",
       "    }\n",
       "  \n",
       "    if (window._bokeh_is_loading === 0) {\n",
       "      console.log(\"Bokeh: BokehJS loaded, going straight to plotting\");\n",
       "      run_inline_js();\n",
       "    } else {\n",
       "      load_libs(js_urls, function() {\n",
       "        console.log(\"Bokeh: BokehJS plotting callback run at\", now());\n",
       "        run_inline_js();\n",
       "      });\n",
       "    }\n",
       "  }(this));\n",
       "</script>"
      ]
     },
     "metadata": {},
     "output_type": "display_data"
    }
   ],
   "source": [
    "rows = [tuple(row) for row in Buy.getValues()]\n",
    "factors = [index for index, value in rows]\n",
    "x = [value for index, value in rows]\n",
    "\n",
    "dot = figure(\n",
    "    title=\"Categorical Dot Plot\", tools='', toolbar_location=None,\n",
    "    y_range=factors, x_range=[0,12]\n",
    ")\n",
    "\n",
    "dot.segment(0, factors, x, factors, line_width=2, line_color='green')\n",
    "dot.circle(x, factors, size=15, fill_color='orange', line_color='green', line_width=3)\n",
    "show(dot)"
   ]
  }
 ],
 "metadata": {
  "kernelspec": {
   "display_name": "Python 2",
   "language": "python",
   "name": "python2"
  },
  "language_info": {
   "codemirror_mode": {
    "name": "ipython",
    "version": 2
   },
   "file_extension": ".py",
   "mimetype": "text/x-python",
   "name": "python",
   "nbconvert_exporter": "python",
   "pygments_lexer": "ipython2",
   "version": "2.7.12"
  }
 },
 "nbformat": 4,
 "nbformat_minor": 2
}
